{
 "cells": [
  {
   "cell_type": "code",
   "execution_count": 6,
   "id": "d865998d-a20c-460c-bb9a-a2d1c708691f",
   "metadata": {
    "tags": []
   },
   "outputs": [],
   "source": [
    "from qiskit import QuantumCircuit, Aer, transpile\n",
    "from qiskit.providers.aer import AerSimulator"
   ]
  },
  {
   "cell_type": "code",
   "execution_count": null,
   "id": "1302037f-148a-429e-8d41-33a30d349957",
   "metadata": {
    "tags": []
   },
   "outputs": [],
   "source": []
  },
  {
   "cell_type": "code",
   "execution_count": 7,
   "id": "41ab4295-fa7f-4def-b0bf-7cf65a0dc6e1",
   "metadata": {
    "tags": []
   },
   "outputs": [],
   "source": [
    "'''\n",
    "This is a quantum circuit with 1 qubit. A qubit can be in superposition of 2 states, \n",
    "not more.\n",
    "'''\n",
    "qc = QuantumCircuit(1)\n"
   ]
  },
  {
   "cell_type": "code",
   "execution_count": 8,
   "id": "e0444a3e-c7c3-4e1a-abb2-2becf14d20a4",
   "metadata": {
    "tags": []
   },
   "outputs": [
    {
     "data": {
      "text/plain": [
       "<qiskit.circuit.instructionset.InstructionSet at 0x7ff4743e37f0>"
      ]
     },
     "execution_count": 8,
     "metadata": {},
     "output_type": "execute_result"
    }
   ],
   "source": [
    "'''\n",
    "This applies a hadamard gate to actually put the qubit into superposition \n",
    "of two states. \n",
    "'''\n",
    "qc.h(0)"
   ]
  },
  {
   "cell_type": "code",
   "execution_count": 9,
   "id": "eac9fa98-2d37-4bbb-9efa-95bf1bc24c3f",
   "metadata": {
    "tags": []
   },
   "outputs": [],
   "source": [
    "'''\n",
    "measuring collapses the wave function and forces the qubits to choose a value. \n",
    "Qubits can only have a superposition of 2 states, so the probabilities collapse\n",
    "in this case to either 1 or 0. \n",
    "'''\n",
    "qc.measure_all()\n"
   ]
  },
  {
   "cell_type": "code",
   "execution_count": 10,
   "id": "273e77f5-1226-4093-b374-6daa314ed84b",
   "metadata": {
    "tags": []
   },
   "outputs": [
    {
     "data": {
      "image/png": "[encoded data removed]",
      "text/plain": [
       "<Figure size 413.165x200.667 with 1 Axes>"
      ]
     },
     "execution_count": 10,
     "metadata": {},
     "output_type": "execute_result"
    }
   ],
   "source": [
    "# Visualize the circuit\n",
    "qc.draw('mpl')"
   ]
  },
  {
   "cell_type": "code",
   "execution_count": 17,
   "id": "b9486e52-afb6-47a8-b52f-7ac1072293ef",
   "metadata": {
    "tags": []
   },
   "outputs": [
    {
     "name": "stdout",
     "output_type": "stream",
     "text": [
      "{'0': 1}\n"
     ]
    }
   ],
   "source": [
    "# simulate a coin flip using Aer\n",
    "simulator = AerSimulator()\n",
    "transpiled_circuit = transpile(qc, simulator)\n",
    "result = simulator.run(transpiled_circuit, shots=1).result()\n",
    "\n",
    "print(result.get_counts())\n"
   ]
  },
  {
   "cell_type": "code",
   "execution_count": null,
   "id": "414b9128-db39-4758-b3ef-db46ed8442a8",
   "metadata": {},
   "outputs": [],
   "source": []
  }
 ],
 "metadata": {
  "kernelspec": {
   "display_name": "Python 3 (ipykernel)",
   "language": "python",
   "name": "python3"
  },
  "language_info": {
   "codemirror_mode": {
    "name": "ipython",
    "version": 3
   },
   "file_extension": ".py",
   "mimetype": "text/x-python",
   "name": "python",
   "nbconvert_exporter": "python",
   "pygments_lexer": "ipython3",
   "version": "3.8.10"
  }
 },
 "nbformat": 4,
 "nbformat_minor": 5
}
