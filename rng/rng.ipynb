{
 "cells": [
  {
   "cell_type": "code",
   "execution_count": null,
   "id": "b012f940-6bf7-4727-aa1c-223e97ff7af5",
   "metadata": {},
   "outputs": [],
   "source": [
    "from qiskit import QuantumCircuit, Aer, transpile\n",
    "from qiskit.visualization import plot_histogram\n",
    "from qiskit.providers.aer import AerSimulator\n",
    "from qiskit.tools.monitor import job_monitor\n",
    "from qiskit_ibm_runtime import QiskitRuntimeService, Estimator, Sampler, Session\n",
    "from math import pow"
   ]
  },
  {
   "cell_type": "code",
   "execution_count": null,
   "id": "2c6a2d07-191f-4e01-bc2d-aabd8b82b9fc",
   "metadata": {},
   "outputs": [],
   "source": [
    "run_simulation = False"
   ]
  },
  {
   "cell_type": "code",
   "execution_count": null,
   "id": "4f820b79-5e40-4329-afc4-156dd9e1fc3f",
   "metadata": {},
   "outputs": [],
   "source": [
    "'''\n",
    "This is a quantum circuit with N qubits. A qubit can be in superposition of 2 states, \n",
    "not more.\n",
    "'''\n",
    "num_qbits = 7\n",
    "qc = QuantumCircuit(num_qbits)"
   ]
  },
  {
   "cell_type": "code",
   "execution_count": null,
   "id": "ad48b809-5ccb-4532-8417-c61d8b668da1",
   "metadata": {},
   "outputs": [],
   "source": [
    "'''\n",
    "This applies a hadamard gate to actually put the qubits into superposition \n",
    "of two states. \n",
    "'''\n",
    "for qubit in range(num_qbits):\n",
    "    qc.h(qubit)"
   ]
  },
  {
   "cell_type": "code",
   "execution_count": null,
   "id": "22f64183-7870-4716-a4cd-39f6a1dc6bf4",
   "metadata": {},
   "outputs": [],
   "source": [
    "'''\n",
    "measuring collapses the wave function and forces the qubits to choose a value. \n",
    "Qubits can only have a superposition of 2 states, so the probabilities collapse\n",
    "in this case to either 1 or 0. \n",
    "'''\n",
    "qc.measure_all()"
   ]
  },
  {
   "cell_type": "code",
   "execution_count": null,
   "id": "44e0300b-28b5-4e3d-991c-c694db6add1e",
   "metadata": {},
   "outputs": [],
   "source": [
    "# Visualize the circuit\n",
    "qc.draw('mpl')"
   ]
  },
  {
   "cell_type": "code",
   "execution_count": null,
   "id": "98f23cf5-4efd-45d0-90ee-07025384977d",
   "metadata": {},
   "outputs": [],
   "source": [
    "def simulate(qcircuit): \n",
    "    simulator = AerSimulator()\n",
    "    transpiled_circuit = transpile(qcircuit, simulator)\n",
    "    result = simulator.run(transpiled_circuit, shots=1).result()\n",
    "    return result\n",
    "\n",
    "def run_on_ibm(qcircuit): \n",
    "    service = QiskitRuntimeService(channel = \"ibm_quantum\", token=\"14c6a65c608138b67d53d32f0959cd73cb06b062f94084c6d7df7b395298cadf3b99f178b17967b3dc14cf6d697fd2fa8642028043cc9a99acd4bed0c4b94158\")\n",
    "    backend = service.get_backend(\"ibm_nairobi\")\n",
    "    \n",
    "    transpiled_circuit = transpile(qcircuit, backend)\n",
    "    \n",
    "    with Session(backend=backend):\n",
    "        sampler = Sampler()\n",
    "        job = sampler.run(transpiled_circuit, shots=1)  \n",
    "        #job_monitor(job)  # This will display the job's status in real-time\n",
    "        result = job.result()\n",
    "        return result\n",
    "    \n",
    "def bin_to_dec(bin) -> int: \n",
    "    output = 0\n",
    "    for i in range(len(bin)): \n",
    "        if (bin[len(bin)-i-1] == '1'): \n",
    "            output += pow(2, i)\n",
    "    return output"
   ]
  },
  {
   "cell_type": "code",
   "execution_count": null,
   "id": "38d4c882-a96a-411f-b6a7-772687b0fa50",
   "metadata": {},
   "outputs": [],
   "source": [
    "result = None\n",
    "if (run_simulation): \n",
    "    print('simulating quantum calculation...')\n",
    "    result = simulate(qc)\n",
    "else: \n",
    "    print('starting actual quantum calculation...')\n",
    "    run_on_ibm(qc)"
   ]
  },
  {
   "cell_type": "code",
   "execution_count": null,
   "id": "01054199-d72e-4b86-8940-fc3335b4618f",
   "metadata": {},
   "outputs": [],
   "source": [
    "# Get and display the measurement results\n",
    "counts = result.get_counts()\n",
    "r = (list(counts.keys())[0]) \n",
    "print(r)"
   ]
  },
  {
   "cell_type": "code",
   "execution_count": null,
   "id": "14bf272b-a120-4d04-98b1-723686bee047",
   "metadata": {},
   "outputs": [],
   "source": [
    "print(bin_to_dec(r)) "
   ]
  }
 ],
 "metadata": {
  "kernelspec": {
   "display_name": "Python 3 (ipykernel)",
   "language": "python",
   "name": "python3"
  },
  "language_info": {
   "codemirror_mode": {
    "name": "ipython",
    "version": 3
   },
   "file_extension": ".py",
   "mimetype": "text/x-python",
   "name": "python",
   "nbconvert_exporter": "python",
   "pygments_lexer": "ipython3",
   "version": "3.8.10"
  }
 },
 "nbformat": 4,
 "nbformat_minor": 5
}
